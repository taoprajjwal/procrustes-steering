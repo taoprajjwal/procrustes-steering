{
 "cells": [
  {
   "cell_type": "code",
   "execution_count": 1,
   "id": "d318be3a-ed84-4672-a8d3-68ceb79b0021",
   "metadata": {},
   "outputs": [],
   "source": [
    "import torch\n",
    "from tqdm import tqdm\n",
    "import numpy as np\n",
    "import os\n",
    "device=torch.device(\"cuda\")"
   ]
  },
  {
   "cell_type": "code",
   "execution_count": 2,
   "id": "ba5f6cd6-6273-4744-a85d-1e6b895b01b9",
   "metadata": {},
   "outputs": [
    {
     "name": "stderr",
     "output_type": "stream",
     "text": [
      "/home/pb2276/.conda/envs/gpu/lib/python3.10/site-packages/tqdm/auto.py:21: TqdmWarning: IProgress not found. Please update jupyter and ipywidgets. See https://ipywidgets.readthedocs.io/en/stable/user_install.html\n",
      "  from .autonotebook import tqdm as notebook_tqdm\n"
     ]
    }
   ],
   "source": [
    "from datasets import load_dataset\n",
    "\n",
    "dataset = load_dataset(\"LabHC/bias_in_bios\")"
   ]
  },
  {
   "cell_type": "code",
   "execution_count": 17,
   "id": "eaf04f21-132a-4c59-8655-9cda4a1be0d0",
   "metadata": {},
   "outputs": [
    {
     "data": {
      "text/plain": [
       "Dataset({\n",
       "    features: ['hard_text', 'profession', 'gender'],\n",
       "    num_rows: 99069\n",
       "})"
      ]
     },
     "execution_count": 17,
     "metadata": {},
     "output_type": "execute_result"
    }
   ],
   "source": [
    "dataset[\"test\"]"
   ]
  },
  {
   "cell_type": "markdown",
   "id": "be4e918f-ea51-495d-992d-1a1c7c603a14",
   "metadata": {},
   "source": [
    "# Get embds"
   ]
  },
  {
   "cell_type": "code",
   "execution_count": 3,
   "id": "44aa9aa7-f240-4c4c-a836-3ca6ace5bfba",
   "metadata": {},
   "outputs": [
    {
     "name": "stderr",
     "output_type": "stream",
     "text": [
      "Loading checkpoint shards: 100%|██████████| 2/2 [00:05<00:00,  2.53s/it]\n"
     ]
    },
    {
     "data": {
      "text/plain": [
       "Embedding(32001, 4096)"
      ]
     },
     "execution_count": 3,
     "metadata": {},
     "output_type": "execute_result"
    }
   ],
   "source": [
    "from transformers import AutoTokenizer, AutoModel\n",
    "\n",
    "access_token = \"ADD_YOUR_OWN\"\n",
    "\n",
    "tokenizer = AutoTokenizer.from_pretrained(\"meta-llama/Llama-2-7b-hf\",token=access_token)\n",
    "tokenizer.add_special_tokens({'pad_token': '[PAD]'})\n",
    "\n",
    "model = AutoModel.from_pretrained(\"meta-llama/Llama-2-7b-hf\",token=access_token).to(device)\n",
    "model.resize_token_embeddings(len(tokenizer))"
   ]
  },
  {
   "cell_type": "code",
   "execution_count": 9,
   "id": "770402d2-4090-4adb-947a-05f69e03029e",
   "metadata": {},
   "outputs": [],
   "source": [
    "def tokenize(example):\n",
    "    return tokenizer(example[\"hard_text\"], padding=True, return_tensors=\"pt\").to(device)"
   ]
  },
  {
   "cell_type": "code",
   "execution_count": 10,
   "id": "999f2760-6f32-4db8-8233-f7fa88fb2233",
   "metadata": {},
   "outputs": [],
   "source": [
    "ds_0_only = dataset[\"train\"].filter(lambda x: x[\"gender\"]==0)"
   ]
  },
  {
   "cell_type": "code",
   "execution_count": 11,
   "id": "ae9c1442-7a1b-41a8-805b-461f3e7c44a5",
   "metadata": {},
   "outputs": [
    {
     "data": {
      "text/plain": [
       "Dataset({\n",
       "    features: ['hard_text', 'profession', 'gender'],\n",
       "    num_rows: 257478\n",
       "})"
      ]
     },
     "execution_count": 11,
     "metadata": {},
     "output_type": "execute_result"
    }
   ],
   "source": [
    "dataset[\"train\"]"
   ]
  },
  {
   "cell_type": "code",
   "execution_count": 12,
   "id": "91004765-5149-4898-9a49-e20741a8e168",
   "metadata": {},
   "outputs": [],
   "source": [
    "ds_1_only = dataset[\"train\"].filter(lambda x: x[\"gender\"]==1)"
   ]
  },
  {
   "cell_type": "code",
   "execution_count": 13,
   "id": "99a5a3a9-2483-4db8-b820-2c2f2b4ab558",
   "metadata": {},
   "outputs": [],
   "source": [
    "smol_ds_0 = dataset[\"train\"].shuffle(seed=42).select(range(1024))\n",
    "smol_ds_1 = ds_1_only.shuffle(seed=42).select(range(4096))"
   ]
  },
  {
   "cell_type": "code",
   "execution_count": null,
   "id": "2606bf47-b0d8-4a9c-870d-91a4904b4bde",
   "metadata": {},
   "outputs": [],
   "source": [
    "for i in smol_ds_1:\n",
    "    print(i)"
   ]
  },
  {
   "cell_type": "code",
   "execution_count": 48,
   "id": "1c783e99-5e60-4476-8471-0db37b0c32ea",
   "metadata": {},
   "outputs": [],
   "source": [
    "embds=np.empty((0,4096))"
   ]
  },
  {
   "cell_type": "code",
   "execution_count": null,
   "id": "e73e26cc-1da6-4e7f-bbc8-94b1ea4b5ddd",
   "metadata": {},
   "outputs": [],
   "source": [
    "len(np.vstack((embds, np.random.rand(10000,4096))))"
   ]
  },
  {
   "cell_type": "code",
   "execution_count": 8,
   "id": "53dd2c44-09d5-48d9-a190-73fa4a273ddf",
   "metadata": {},
   "outputs": [],
   "source": [
    "test_1 = torch.rand(128,64,1024)"
   ]
  },
  {
   "cell_type": "code",
   "execution_count": 27,
   "id": "c90bd405-f416-48b1-9261-6225e75521f3",
   "metadata": {},
   "outputs": [
    {
     "data": {
      "text/plain": [
       "torch.Size([128, 64, 1024])"
      ]
     },
     "execution_count": 27,
     "metadata": {},
     "output_type": "execute_result"
    }
   ],
   "source": [
    "test_1.shape"
   ]
  },
  {
   "cell_type": "code",
   "execution_count": 28,
   "id": "fcac8613-a10a-47a3-b893-f3efa780513b",
   "metadata": {},
   "outputs": [],
   "source": [
    "test_idx=torch.randint(0,64,(128,))"
   ]
  },
  {
   "cell_type": "code",
   "execution_count": null,
   "id": "92d18f3d-8c21-477f-b221-ebffd8e1aea3",
   "metadata": {},
   "outputs": [],
   "source": [
    "test_idx.view(-1,1,1).expand(-1,-1,1024)"
   ]
  },
  {
   "cell_type": "code",
   "execution_count": null,
   "id": "875f2f95-83b9-4ba9-8753-7e133f803d36",
   "metadata": {},
   "outputs": [],
   "source": [
    "test_idx.unsqueeze(1).expand(-1, 1024).unsqueeze(1)"
   ]
  },
  {
   "cell_type": "code",
   "execution_count": null,
   "id": "44e00035-5a39-4930-b6b5-cdf8bb300436",
   "metadata": {},
   "outputs": [],
   "source": [
    "test_1[0][10]"
   ]
  },
  {
   "cell_type": "code",
   "execution_count": null,
   "id": "a4ffa8de-383c-4ed0-a49e-03f31c74affe",
   "metadata": {},
   "outputs": [],
   "source": [
    "torch.gather(test_1, 1, test_idx.unsqueeze(1).expand(-1,1024).unsqueeze(1)).view(128,-1).shape"
   ]
  },
  {
   "cell_type": "code",
   "execution_count": 14,
   "id": "12606d14-5152-454a-b3d8-ccb3f961ecf6",
   "metadata": {},
   "outputs": [
    {
     "data": {
      "text/plain": [
       "Dataset({\n",
       "    features: ['hard_text', 'profession', 'gender'],\n",
       "    num_rows: 100\n",
       "})"
      ]
     },
     "execution_count": 14,
     "metadata": {},
     "output_type": "execute_result"
    }
   ],
   "source": [
    "smol_ds_0"
   ]
  },
  {
   "cell_type": "code",
   "execution_count": 10,
   "id": "1dd9acbd-1fae-48f1-b7f2-ccd0472480c3",
   "metadata": {},
   "outputs": [],
   "source": [
    "tokens =tokenize(smol_ds_0)"
   ]
  },
  {
   "cell_type": "code",
   "execution_count": 11,
   "id": "47290581-67ba-4131-95ee-c7844f544da3",
   "metadata": {},
   "outputs": [],
   "source": [
    "last_token_idx = (torch.sum(tokens[\"attention_mask\"], dim=1) -1).unsqueeze(1).unsqueeze(0).expand(33,-1, 4096).unsqueeze(2)"
   ]
  },
  {
   "cell_type": "code",
   "execution_count": 12,
   "id": "44acf3fd-5c91-487d-bc6d-d0acf4ace945",
   "metadata": {
    "scrolled": true
   },
   "outputs": [],
   "source": [
    "with torch.no_grad():\n",
    "    output = model(**tokens,output_hidden_states=True)"
   ]
  },
  {
   "cell_type": "code",
   "execution_count": 43,
   "id": "7e8d0353-17d6-41d3-af0b-2c8ed7b2ba6b",
   "metadata": {},
   "outputs": [
    {
     "data": {
      "text/plain": [
       "33"
      ]
     },
     "execution_count": 43,
     "metadata": {},
     "output_type": "execute_result"
    }
   ],
   "source": [
    "len(output.hidden_states)"
   ]
  },
  {
   "cell_type": "code",
   "execution_count": 13,
   "id": "978c4a13-4b19-4a6e-9730-0f0d8535a572",
   "metadata": {},
   "outputs": [],
   "source": [
    "tt=torch.stack(output.hidden_states)"
   ]
  },
  {
   "cell_type": "code",
   "execution_count": 14,
   "id": "23641465-77b6-4308-9728-9d7e054bd218",
   "metadata": {},
   "outputs": [],
   "source": [
    "layers=[i for i in range(33)]"
   ]
  },
  {
   "cell_type": "code",
   "execution_count": 139,
   "id": "6315d4ab-c297-4c5e-b707-810138bbcde2",
   "metadata": {},
   "outputs": [
    {
     "data": {
      "text/plain": [
       "torch.Size([33, 32, 203, 4096])"
      ]
     },
     "execution_count": 139,
     "metadata": {},
     "output_type": "execute_result"
    }
   ],
   "source": [
    "tt.shape"
   ]
  },
  {
   "cell_type": "code",
   "execution_count": 21,
   "id": "4f0954bf-3fc8-4ae5-8685-bbb8c3a1aaab",
   "metadata": {},
   "outputs": [],
   "source": [
    "tt2=tt[layers]"
   ]
  },
  {
   "cell_type": "code",
   "execution_count": 64,
   "id": "dfb6f635-abe4-4b82-955c-33bbbcc1047a",
   "metadata": {},
   "outputs": [
    {
     "data": {
      "text/plain": [
       "torch.Size([33, 32, 203, 4096])"
      ]
     },
     "execution_count": 64,
     "metadata": {},
     "output_type": "execute_result"
    }
   ],
   "source": [
    "tt.shape"
   ]
  },
  {
   "cell_type": "code",
   "execution_count": 98,
   "id": "570f315a-a22d-4ecb-b1df-110f7fa13367",
   "metadata": {},
   "outputs": [
    {
     "data": {
      "text/plain": [
       "torch.Size([33, 32, 1, 4096])"
      ]
     },
     "execution_count": 98,
     "metadata": {},
     "output_type": "execute_result"
    }
   ],
   "source": [
    "last_token_idx.shape"
   ]
  },
  {
   "cell_type": "code",
   "execution_count": null,
   "id": "8148a941-8520-4d31-ae7d-4e9bd82a43d6",
   "metadata": {},
   "outputs": [],
   "source": [
    "last_token_idx"
   ]
  },
  {
   "cell_type": "code",
   "execution_count": 23,
   "id": "333b3254-a4c8-440b-9d4a-b329268fa40d",
   "metadata": {},
   "outputs": [],
   "source": [
    "np1=torch.gather(tt2, 2, last_token_idx).view(33, 32, -1).cpu().numpy()"
   ]
  },
  {
   "cell_type": "code",
   "execution_count": 112,
   "id": "b9cbaf0c-3050-419e-a65a-f6e3ebf5dc78",
   "metadata": {},
   "outputs": [],
   "source": [
    "np2=torch.gather(tt, 2, last_token_idx).view(33, 32, -1).cpu().numpy()"
   ]
  },
  {
   "cell_type": "code",
   "execution_count": null,
   "id": "495aa801-5349-4f2f-8c77-313b799b8d56",
   "metadata": {},
   "outputs": [],
   "source": []
  },
  {
   "cell_type": "code",
   "execution_count": 116,
   "id": "c51beba9-af3c-4bfe-a887-96b6c4696264",
   "metadata": {},
   "outputs": [
    {
     "data": {
      "text/plain": [
       "(33, 64, 4096)"
      ]
     },
     "execution_count": 116,
     "metadata": {},
     "output_type": "execute_result"
    }
   ],
   "source": [
    "np.concatenate((np1,np2),axis=1).shape"
   ]
  },
  {
   "cell_type": "code",
   "execution_count": 125,
   "id": "67aa000e-e017-4363-9521-e8953c46000c",
   "metadata": {},
   "outputs": [
    {
     "data": {
      "text/plain": [
       "(33, 32, 4096)"
      ]
     },
     "execution_count": 125,
     "metadata": {},
     "output_type": "execute_result"
    }
   ],
   "source": [
    "np.concatenate((np.empty((33,0,4096)), np1), axis=1).shape"
   ]
  },
  {
   "cell_type": "code",
   "execution_count": 14,
   "id": "83f87a19-b2dd-4e05-9efe-5adb73c6cde9",
   "metadata": {},
   "outputs": [],
   "source": [
    "@torch.no_grad()\n",
    "def get_embeddings_from_ds(ds, embd_size=4096, layers=[i for  i in range(33)], file_name=\"llama_embds.obj\", infer_batch_size=64, batch_size=10000):\n",
    "    if not os.path.exists(file_name):\n",
    "        mode=\"w+\"\n",
    "    else:\n",
    "        mode = \"r+\"\n",
    "    \n",
    "    n_layers= len(layers)\n",
    "    embds_file=np.memmap(file_name, dtype=np.float64, shape=(n_layers, len(ds),embd_size) , mode=mode)\n",
    "    embds_mem=np.empty((n_layers, 0,embd_size))\n",
    "    i=0\n",
    "    gender=[]\n",
    "    prof=[]\n",
    "\n",
    "    \n",
    "    for batch in tqdm(ds.iter(batch_size=infer_batch_size), total= int(len(ds)/infer_batch_size)):\n",
    "        \n",
    "        gender+=batch[\"gender\"]\n",
    "        prof+=batch[\"profession\"]\n",
    "        \n",
    "        tokens=tokenize(batch)\n",
    "\n",
    "        last_token_idx = (torch.sum(tokens[\"attention_mask\"], dim=1) -1).unsqueeze(1).unsqueeze(0).expand(n_layers, -1, embd_size).unsqueeze(2)\n",
    "        \n",
    "        output = torch.stack(model(**tokens,output_hidden_states=True).hidden_states)[layers] #n_layers x inf_batch x n_tokens x embd_size\n",
    "        print(output.shape)\n",
    "        extracted_output = torch.gather(output, 2, last_token_idx).view(n_layers, infer_batch_size, -1).cpu().numpy()\n",
    "        print(extracted_output.shape)\n",
    "        print(embds_mem.shape)\n",
    "        embds_mem= np.concatenate((embds_mem, extracted_output), axis=1)\n",
    "\n",
    "        if embds_mem.shape[1] >= batch_size:\n",
    "            embds_file[:,i:i+batch_size,:] = embds_mem\n",
    "            embds_file.flush()\n",
    "            i+=embds_mem.shape[1]\n",
    "            embds_mem=np.empty((n_layers, 0,embd_size))\n",
    "    \n",
    "    print(\"main loop done\")\n",
    "    embds_file[:,i:,:]=embds_mem\n",
    "    embds_file.flush()\n",
    "\n",
    "    return gender,prof"
   ]
  },
  {
   "cell_type": "code",
   "execution_count": 24,
   "id": "8dabc207-4e87-4615-b37b-41d791b40c79",
   "metadata": {},
   "outputs": [
    {
     "name": "stdout",
     "output_type": "stream",
     "text": [
      " dataset\t\t     smol_test.obj\n",
      " get_llama_embd.py\t     Steering_BERT_procrustes.ipynb\n",
      " llama_embds.obj\t     tests.ipynb\n",
      " llama_embds_test.obj\t     Untitled.ipynb\n",
      " llama_test_all_layers.obj  'Upper bound anlaysis.ipynb'\n"
     ]
    },
    {
     "name": "stderr",
     "output_type": "stream",
     "text": [
      "huggingface/tokenizers: The current process just got forked, after parallelism has already been used. Disabling parallelism to avoid deadlocks...\n",
      "To disable this warning, you can either:\n",
      "\t- Avoid using `tokenizers` before the fork if possible\n",
      "\t- Explicitly set the environment variable TOKENIZERS_PARALLELISM=(true | false)\n"
     ]
    }
   ],
   "source": [
    "!ls"
   ]
  },
  {
   "cell_type": "code",
   "execution_count": null,
   "id": "f7a22c89-cf8b-4a94-b4cf-8b2c7e0a97a9",
   "metadata": {},
   "outputs": [],
   "source": [
    "embd_ds_0 = get_embeddings_from_ds(smol_ds_0,file_name=\"smol_test.obj\", infer_batch_size=32)"
   ]
  },
  {
   "cell_type": "code",
   "execution_count": null,
   "id": "be2e4528-06d6-482e-bf66-df6689b94093",
   "metadata": {},
   "outputs": [],
   "source": [
    "embd_ds_0[0]"
   ]
  },
  {
   "cell_type": "code",
   "execution_count": 16,
   "id": "1983bd9b-f87d-49a4-afff-ef5ed1c094ed",
   "metadata": {},
   "outputs": [],
   "source": [
    "embds_file=np.memmap(\"smol_test.obj\", dtype=np.float64, shape=(33, len(smol_ds_0),4096) , mode=\"r\")"
   ]
  },
  {
   "cell_type": "code",
   "execution_count": 22,
   "id": "5315289f-431d-4fee-b3f3-0a46f2410369",
   "metadata": {},
   "outputs": [
    {
     "data": {
      "text/plain": [
       "memmap([[-7.24792480e-04,  7.74383545e-04, -5.06591797e-03, ...,\n",
       "          1.06048584e-03, -2.86102295e-04, -3.78417969e-03],\n",
       "        [ 4.65863151e-03, -1.41350534e-02, -2.88149598e-03, ...,\n",
       "          4.20737313e-04,  9.73702967e-03, -1.06992731e-02],\n",
       "        [-7.37299956e-03, -8.75099562e-03, -7.43774138e-03, ...,\n",
       "         -8.71344563e-03,  1.30760511e-02, -1.74799822e-02],\n",
       "        ...,\n",
       "        [ 1.50910830e+00, -5.17217159e-01,  1.17185903e+00, ...,\n",
       "          6.54209733e-01,  1.24738351e-01, -1.68426538e+00],\n",
       "        [ 2.23445821e+00, -7.33552635e-01,  6.00042880e-01, ...,\n",
       "          6.41064405e-01, -4.79235947e-01, -8.40178668e-01],\n",
       "        [ 1.56434953e+00,  1.81297016e+00,  6.00360870e-01, ...,\n",
       "          7.30010867e-01,  4.92197990e-01, -7.27420330e-01]])"
      ]
     },
     "execution_count": 22,
     "metadata": {},
     "output_type": "execute_result"
    }
   ],
   "source": [
    "embds_file[:,0,:]"
   ]
  },
  {
   "cell_type": "code",
   "execution_count": 23,
   "id": "fc200bf2-693f-48f3-84e2-425ad4d8b3ba",
   "metadata": {},
   "outputs": [
    {
     "data": {
      "text/plain": [
       "memmap([[-7.24792480e-04,  7.74383545e-04, -5.06591797e-03, ...,\n",
       "          1.06048584e-03, -2.86102295e-04, -3.78417969e-03],\n",
       "        [-2.57673068e-03, -2.29065982e-03,  9.73934401e-03, ...,\n",
       "         -1.01587484e-02,  2.98183272e-03, -9.13590193e-03],\n",
       "        [-1.75240654e-02,  1.57305337e-02,  1.98087394e-02, ...,\n",
       "         -1.61246993e-02, -7.73381954e-03, -7.00211292e-03],\n",
       "        ...,\n",
       "        [-1.77082568e-01, -2.70399392e-01,  2.44317961e+00, ...,\n",
       "         -3.08729440e-01, -1.78335547e-01, -2.16446280e-01],\n",
       "        [ 3.45857501e-01, -9.97122645e-01,  3.35724068e+00, ...,\n",
       "         -4.76622283e-01,  1.04049945e+00, -3.21360439e-01],\n",
       "        [ 1.17420161e+00, -1.52036726e+00,  2.15969968e+00, ...,\n",
       "         -4.88626987e-01,  2.32832766e+00, -4.07283157e-01]])"
      ]
     },
     "execution_count": 23,
     "metadata": {},
     "output_type": "execute_result"
    }
   ],
   "source": [
    "embds_file[:,-1,:]"
   ]
  },
  {
   "cell_type": "code",
   "execution_count": null,
   "id": "e244ff74-fa42-4876-833f-78005dc52ee8",
   "metadata": {},
   "outputs": [
    {
     "name": "stderr",
     "output_type": "stream",
     "text": [
      "  0%|          | 7/2011 [02:26<12:02:11, 21.62s/it]"
     ]
    }
   ],
   "source": [
    "g,p = get_embeddings_from_ds(dataset[\"train\"])"
   ]
  },
  {
   "cell_type": "code",
   "execution_count": 6,
   "id": "06514463-66bc-48bb-bd64-93a162402134",
   "metadata": {},
   "outputs": [
    {
     "data": {
      "text/plain": [
       "257478"
      ]
     },
     "execution_count": 6,
     "metadata": {},
     "output_type": "execute_result"
    }
   ],
   "source": [
    "len(dataset[\"train\"])"
   ]
  },
  {
   "cell_type": "code",
   "execution_count": 16,
   "id": "d6572006-56e5-4196-8988-1a418af8ecf9",
   "metadata": {},
   "outputs": [
    {
     "name": "stdout",
     "output_type": "stream",
     "text": [
      "/scratch/pb2276/grad_work/Shape_analysis_LLMs\n"
     ]
    },
    {
     "name": "stderr",
     "output_type": "stream",
     "text": [
      "huggingface/tokenizers: The current process just got forked, after parallelism has already been used. Disabling parallelism to avoid deadlocks...\n",
      "To disable this warning, you can either:\n",
      "\t- Avoid using `tokenizers` before the fork if possible\n",
      "\t- Explicitly set the environment variable TOKENIZERS_PARALLELISM=(true | false)\n"
     ]
    }
   ],
   "source": [
    "!pwd"
   ]
  },
  {
   "cell_type": "markdown",
   "id": "b2c7b746-0267-4396-8f85-00d49777d84b",
   "metadata": {},
   "source": [
    "# Analysis"
   ]
  },
  {
   "cell_type": "code",
   "execution_count": 4,
   "id": "17a46373-5d98-4bac-97b0-33db3d6efacf",
   "metadata": {},
   "outputs": [],
   "source": [
    "embds_file = np.memmap(\"llama_embds.obj\", dtype=np.float64, shape=(len(dataset[\"train\"]),4096),  mode=\"r\")"
   ]
  },
  {
   "cell_type": "code",
   "execution_count": 25,
   "id": "67063750-f0fe-4163-86cb-60c0039956cb",
   "metadata": {},
   "outputs": [],
   "source": [
    "embds_test = np.memmap(\"llama_embds_test.obj\", dtype=np.float64, shape=(len(dataset[\"test\"]),4096),  mode=\"r\")"
   ]
  },
  {
   "cell_type": "code",
   "execution_count": 5,
   "id": "7814eddb-a257-43e5-a446-044e90e1383a",
   "metadata": {},
   "outputs": [],
   "source": [
    "gender= np.array(dataset[\"train\"][\"gender\"])\n",
    "prof = np.array(dataset[\"train\"][\"profession\"])"
   ]
  },
  {
   "cell_type": "code",
   "execution_count": 6,
   "id": "0257b7d3-e436-45a0-84c0-4a6afd095fb2",
   "metadata": {},
   "outputs": [],
   "source": [
    "embd_0= embds_file[gender==0]\n",
    "embd_1 = embds_file[gender==1]"
   ]
  },
  {
   "cell_type": "code",
   "execution_count": 7,
   "id": "7f0d9bea-1e43-4160-afbb-6475c2a1ae35",
   "metadata": {},
   "outputs": [],
   "source": [
    "subset_len = min (len(embd_0), len(embd_1))"
   ]
  },
  {
   "cell_type": "code",
   "execution_count": 8,
   "id": "b7cfa24d-1558-4393-880b-d3b36cbcda1e",
   "metadata": {},
   "outputs": [],
   "source": [
    "embd_0 = embd_0[:subset_len]\n",
    "embd_1 = embd_1[:subset_len:]"
   ]
  },
  {
   "cell_type": "code",
   "execution_count": 8,
   "id": "69128820-b4c6-49f0-8045-c0e51c30b886",
   "metadata": {},
   "outputs": [
    {
     "data": {
      "text/plain": [
       "(118698, 4096)"
      ]
     },
     "execution_count": 8,
     "metadata": {},
     "output_type": "execute_result"
    }
   ],
   "source": [
    "embd_0.shape"
   ]
  },
  {
   "cell_type": "code",
   "execution_count": null,
   "id": "2a57c150-feee-4eae-b504-b136117df70d",
   "metadata": {},
   "outputs": [],
   "source": [
    "(embd_0@b).shape"
   ]
  },
  {
   "cell_type": "code",
   "execution_count": null,
   "id": "75dc8af0-0b2d-4cde-b979-2cdae2183a90",
   "metadata": {},
   "outputs": [],
   "source": [
    "embd_1.shape"
   ]
  },
  {
   "cell_type": "code",
   "execution_count": 9,
   "id": "e746eb3c-7e1e-4d51-a455-667f7978a895",
   "metadata": {},
   "outputs": [],
   "source": [
    "aligned_gender = np.concatenate( (gender[gender==0][:subset_len], gender[gender==1][:subset_len]))\n",
    "aligned_profession = np.concatenate( (prof[gender==0][:subset_len], prof[gender==1][:subset_len]))"
   ]
  },
  {
   "cell_type": "code",
   "execution_count": 12,
   "id": "36115f27-2468-4344-958a-3445118ede33",
   "metadata": {},
   "outputs": [
    {
     "data": {
      "text/plain": [
       "(array([0, 1]), array([118698, 118698]))"
      ]
     },
     "execution_count": 12,
     "metadata": {},
     "output_type": "execute_result"
    }
   ],
   "source": [
    "np.unique(aligned_gender, return_counts=True)"
   ]
  },
  {
   "cell_type": "code",
   "execution_count": 11,
   "id": "e88e7992-9ad9-4667-b292-876db764d0ac",
   "metadata": {},
   "outputs": [
    {
     "data": {
      "text/plain": [
       "(array([ 0,  1,  2,  3,  4,  5,  6,  7,  8,  9, 10, 11, 12, 13, 14, 15, 16,\n",
       "        17, 18, 19, 20, 21, 22, 23, 24, 25, 26, 27]),\n",
       " array([ 3323,  5819, 19348,  1545,  1605,  3191,  8594,  2533,   856,\n",
       "         4101,   923, 12011,  4739, 12164,  4618,  1107,  1452,   869,\n",
       "        14284, 24800,  4241, 70584, 11298,   795,  3935,  7706,  9909,\n",
       "         1046]))"
      ]
     },
     "execution_count": 11,
     "metadata": {},
     "output_type": "execute_result"
    }
   ],
   "source": [
    "np.unique(aligned_profession, return_counts=True)"
   ]
  },
  {
   "cell_type": "code",
   "execution_count": 10,
   "id": "0afb9770-6a4d-4c44-a435-95b26b3e1460",
   "metadata": {},
   "outputs": [],
   "source": [
    "mean_diff = np.mean(embd_1, axis=0) - np.mean(embd_0, axis=0)"
   ]
  },
  {
   "cell_type": "code",
   "execution_count": 11,
   "id": "21a5bab3-3ceb-43c4-8512-e475a823a77f",
   "metadata": {},
   "outputs": [],
   "source": [
    "u, _, vt = np.linalg.svd(embd_1.T @ embd_0)"
   ]
  },
  {
   "cell_type": "code",
   "execution_count": 12,
   "id": "21cc7244-59e6-46ee-9aab-ee46d1519158",
   "metadata": {},
   "outputs": [],
   "source": [
    "a = u@vt"
   ]
  },
  {
   "cell_type": "code",
   "execution_count": 13,
   "id": "15657a38-b4c2-41ac-a777-d88635529129",
   "metadata": {},
   "outputs": [],
   "source": [
    "b = vt.T @ u.T"
   ]
  },
  {
   "cell_type": "code",
   "execution_count": 17,
   "id": "61b61f4e-7e2f-4529-ace6-fc0913db0802",
   "metadata": {},
   "outputs": [
    {
     "data": {
      "text/plain": [
       "21.869845757486452"
      ]
     },
     "execution_count": 17,
     "metadata": {},
     "output_type": "execute_result"
    }
   ],
   "source": [
    "np.mean( np.linalg.norm(( embd_0 + mean_diff - embd_0), axis=1))"
   ]
  },
  {
   "cell_type": "code",
   "execution_count": 18,
   "id": "3ec3ec55-5d34-4e57-ac88-16b13f3afa22",
   "metadata": {},
   "outputs": [
    {
     "data": {
      "text/plain": [
       "110.08139827566066"
      ]
     },
     "execution_count": 18,
     "metadata": {},
     "output_type": "execute_result"
    }
   ],
   "source": [
    "np.mean( np.linalg.norm( embd_0@a - embd_0, axis=1))"
   ]
  },
  {
   "cell_type": "code",
   "execution_count": 19,
   "id": "4999a22a-5a00-4ebc-b1ec-6ea5d9f5969b",
   "metadata": {},
   "outputs": [
    {
     "data": {
      "text/plain": [
       "110.08139827566065"
      ]
     },
     "execution_count": 19,
     "metadata": {},
     "output_type": "execute_result"
    }
   ],
   "source": [
    "np.mean( np.linalg.norm( embd_0@b - embd_0, axis=1))"
   ]
  },
  {
   "cell_type": "code",
   "execution_count": 20,
   "id": "0d913aea-adbb-4b19-9d43-f9f89261e0de",
   "metadata": {},
   "outputs": [
    {
     "data": {
      "text/plain": [
       "2.871323440328912e-14"
      ]
     },
     "execution_count": 20,
     "metadata": {},
     "output_type": "execute_result"
    }
   ],
   "source": [
    "np.mean( np.linalg.norm( embd_0@b , axis=1) - np.linalg.norm(embd_0, axis=1))"
   ]
  },
  {
   "cell_type": "code",
   "execution_count": 21,
   "id": "2276336a-29c4-40a8-99de-b121dfbc5f11",
   "metadata": {},
   "outputs": [
    {
     "data": {
      "text/plain": [
       "3.7143514060662866e-14"
      ]
     },
     "execution_count": 21,
     "metadata": {},
     "output_type": "execute_result"
    }
   ],
   "source": [
    "np.mean( np.linalg.norm( embd_0@a , axis=1) - np.linalg.norm(embd_0, axis=1))"
   ]
  },
  {
   "cell_type": "code",
   "execution_count": 22,
   "id": "3fe584e9-e3f7-4eac-8aca-94ab143f0efd",
   "metadata": {},
   "outputs": [
    {
     "data": {
      "text/plain": [
       "0.8907716073904974"
      ]
     },
     "execution_count": 22,
     "metadata": {},
     "output_type": "execute_result"
    }
   ],
   "source": [
    "np.mean(np.linalg.norm(embd_0+ mean_diff , axis=1) - np.linalg.norm(embd_0, axis=1))"
   ]
  },
  {
   "cell_type": "code",
   "execution_count": 195,
   "id": "0adb3309-0163-45e5-a233-64308a9f4b31",
   "metadata": {},
   "outputs": [],
   "source": [
    "prof= smol_ds_0[\"profession\"] + [smol_ds_1[\"profession\"][1000]] + smol_ds_0[\"profession\"] + [smol_ds_1[\"profession\"][1000]]\n",
    "gender= smol_ds_0[\"gender\"] + [smol_ds_1[\"gender\"][1000]] +  smol_ds_1[\"gender\"] + [smol_ds_0[\"gender\"][1000]]"
   ]
  },
  {
   "cell_type": "code",
   "execution_count": 30,
   "id": "eae64705-efd3-4d48-bda1-c9b509dcfeda",
   "metadata": {},
   "outputs": [],
   "source": [
    "from sklearn.model_selection import train_test_split\n",
    "from sklearn.linear_model import LogisticRegression\n",
    "from sklearn.neural_network import MLPClassifier\n",
    "def create_and_predict(embds, label_known, label_unknown, test_size=0.0001):\n",
    "    X_train_a, X_test_a, Y_train_a, Y_test_a = train_test_split(embds, label_known, test_size=test_size, random_state=42)\n",
    "    X_train_b, X_test_b, Y_train_b, Y_test_b = train_test_split(embds, label_unknown, test_size=test_size, random_state=42)\n",
    "    lr1=LogisticRegression()\n",
    "    lr1.fit(X_train_a, Y_train_a)\n",
    "    score1= lr1.score(X_test_a,Y_test_a)\n",
    "\n",
    "    lr2=LogisticRegression()\n",
    "    lr2.fit(X_train_b, Y_train_b)\n",
    "    score2=lr2.score(X_test_b, Y_test_b)\n",
    "\n",
    "    return lr1, lr2, score1,score2"
   ]
  },
  {
   "cell_type": "code",
   "execution_count": 65,
   "id": "76173f48-6a76-4cf8-a80d-417f47b70e2a",
   "metadata": {},
   "outputs": [],
   "source": [
    "def get_tpr(y_pred, y_true, concept_H):\n",
    "    rms_tpr_gap=0.0\n",
    "    gap_per_prof={}\n",
    "    \n",
    "    for y in set(y_true):\n",
    "        tpr_1 = (y_preds[y_true==y][concept_H[y_true==y]==1] ==y).mean()\n",
    "        tpr_0 = (y_preds[y_true==y][concept_H[y_true==y]==0] ==y).mean()\n",
    "        \n",
    "        rms_tpr_gap += (tpr_1 - tpr_0)**2\n",
    "        gap_per_prof[y]= (tpr_1 - tpr_0)**2\n",
    "\n",
    "    return gap_per_prof, np.sqrt(rms_tpr_gap/len(set(y_true)))"
   ]
  },
  {
   "cell_type": "code",
   "execution_count": null,
   "id": "8affcc66-03df-48d6-8e27-ccdb198efcee",
   "metadata": {},
   "outputs": [],
   "source": []
  },
  {
   "cell_type": "code",
   "execution_count": null,
   "id": "6fdd20a7-7ee2-4ca9-9fb7-e506eea7e096",
   "metadata": {},
   "outputs": [],
   "source": [
    "reg1, reg2, score1, score2= create_and_predict(np.vstack((embd_0, embd_1)),aligned_profession, aligned_gender)"
   ]
  },
  {
   "cell_type": "code",
   "execution_count": 33,
   "id": "1e1c85c6-4373-4e21-b1b9-4efd4ae1c83e",
   "metadata": {},
   "outputs": [],
   "source": [
    "y_preds = reg1.predict(embds_test)"
   ]
  },
  {
   "cell_type": "code",
   "execution_count": 69,
   "id": "8e67747d-040b-4f7a-a7a2-b984bc3ee879",
   "metadata": {},
   "outputs": [
    {
     "data": {
      "text/plain": [
       "0.8386478111215415"
      ]
     },
     "execution_count": 69,
     "metadata": {},
     "output_type": "execute_result"
    }
   ],
   "source": [
    "(y_preds==y_true).mean()"
   ]
  },
  {
   "cell_type": "code",
   "execution_count": 40,
   "id": "20d8f89f-f9c2-4305-8182-6d5d45ebdb4b",
   "metadata": {},
   "outputs": [],
   "source": [
    "y_true = np.array(dataset[\"test\"][\"profession\"])"
   ]
  },
  {
   "cell_type": "code",
   "execution_count": 42,
   "id": "62865b5e-997c-456b-9de0-f7160f7d1efe",
   "metadata": {},
   "outputs": [],
   "source": [
    "z_test = np.array(dataset[\"test\"][\"gender\"])"
   ]
  },
  {
   "cell_type": "code",
   "execution_count": 66,
   "id": "8373d137-9203-429e-ab69-ce551b598922",
   "metadata": {},
   "outputs": [],
   "source": [
    "gap, tpr = get_tpr(y_preds, y_true, z_test)"
   ]
  },
  {
   "cell_type": "code",
   "execution_count": 68,
   "id": "0d3d3e8a-3ad9-4374-9927-a4aa2d565592",
   "metadata": {},
   "outputs": [
    {
     "data": {
      "text/plain": [
       "0.1503992375039713"
      ]
     },
     "execution_count": 68,
     "metadata": {},
     "output_type": "execute_result"
    }
   ],
   "source": [
    "tpr"
   ]
  },
  {
   "cell_type": "code",
   "execution_count": 71,
   "id": "1372b2eb-98ea-45e0-8819-a73be97b1d09",
   "metadata": {},
   "outputs": [
    {
     "name": "stderr",
     "output_type": "stream",
     "text": [
      "/home/pb2276/.conda/envs/gpu/lib/python3.10/site-packages/sklearn/linear_model/_logistic.py:460: ConvergenceWarning: lbfgs failed to converge (status=1):\n",
      "STOP: TOTAL NO. of ITERATIONS REACHED LIMIT.\n",
      "\n",
      "Increase the number of iterations (max_iter) or scale the data as shown in:\n",
      "    https://scikit-learn.org/stable/modules/preprocessing.html\n",
      "Please also refer to the documentation for alternative solver options:\n",
      "    https://scikit-learn.org/stable/modules/linear_model.html#logistic-regression\n",
      "  n_iter_i = _check_optimize_result(\n",
      "/home/pb2276/.conda/envs/gpu/lib/python3.10/site-packages/sklearn/linear_model/_logistic.py:460: ConvergenceWarning: lbfgs failed to converge (status=1):\n",
      "STOP: TOTAL NO. of ITERATIONS REACHED LIMIT.\n",
      "\n",
      "Increase the number of iterations (max_iter) or scale the data as shown in:\n",
      "    https://scikit-learn.org/stable/modules/preprocessing.html\n",
      "Please also refer to the documentation for alternative solver options:\n",
      "    https://scikit-learn.org/stable/modules/linear_model.html#logistic-regression\n",
      "  n_iter_i = _check_optimize_result(\n"
     ]
    }
   ],
   "source": [
    "reg_after, reg_after_2, score1_after, score2_after = create_and_predict(np.vstack((embd_0@b, embd_1)),aligned_profession, aligned_gender)"
   ]
  },
  {
   "cell_type": "code",
   "execution_count": 77,
   "id": "30c05cab-ee6b-4fca-9c32-22b109d86af7",
   "metadata": {},
   "outputs": [
    {
     "name": "stderr",
     "output_type": "stream",
     "text": [
      "/home/pb2276/.conda/envs/gpu/lib/python3.10/site-packages/sklearn/linear_model/_logistic.py:460: ConvergenceWarning: lbfgs failed to converge (status=1):\n",
      "STOP: TOTAL NO. of ITERATIONS REACHED LIMIT.\n",
      "\n",
      "Increase the number of iterations (max_iter) or scale the data as shown in:\n",
      "    https://scikit-learn.org/stable/modules/preprocessing.html\n",
      "Please also refer to the documentation for alternative solver options:\n",
      "    https://scikit-learn.org/stable/modules/linear_model.html#logistic-regression\n",
      "  n_iter_i = _check_optimize_result(\n"
     ]
    }
   ],
   "source": [
    "reg_after, reg_after_2, score1_after, score2_after = create_and_predict(np.vstack((embd_0+mean_diff, embd_1)),aligned_profession, aligned_gender)"
   ]
  },
  {
   "cell_type": "code",
   "execution_count": 79,
   "id": "614e0955-508f-4408-bae3-95f925570183",
   "metadata": {},
   "outputs": [],
   "source": [
    "y_preds = reg_after.predict(embds_test)"
   ]
  },
  {
   "cell_type": "code",
   "execution_count": 73,
   "id": "9121072e-6051-46e3-80e3-27d666ba382a",
   "metadata": {},
   "outputs": [
    {
     "data": {
      "text/plain": [
       "0.8115353945230093"
      ]
     },
     "execution_count": 73,
     "metadata": {},
     "output_type": "execute_result"
    }
   ],
   "source": [
    "(y_preds==y_true).mean()"
   ]
  },
  {
   "cell_type": "code",
   "execution_count": 80,
   "id": "11ad331e-7413-4229-b51f-89f94502a8ea",
   "metadata": {},
   "outputs": [
    {
     "data": {
      "text/plain": [
       "0.831965599733519"
      ]
     },
     "execution_count": 80,
     "metadata": {},
     "output_type": "execute_result"
    }
   ],
   "source": [
    "(y_preds==y_true).mean()"
   ]
  },
  {
   "cell_type": "code",
   "execution_count": 74,
   "id": "50cb56a0-dddf-4c6d-9110-50753df19749",
   "metadata": {},
   "outputs": [],
   "source": [
    "gap, tpr = get_tpr(y_preds, y_true, z_test)"
   ]
  },
  {
   "cell_type": "code",
   "execution_count": 81,
   "id": "dcf8450c-4cc6-4cda-aeaf-c38d3877561d",
   "metadata": {},
   "outputs": [],
   "source": [
    "gap, tpr = get_tpr(y_preds, y_true, z_test)"
   ]
  },
  {
   "cell_type": "code",
   "execution_count": 76,
   "id": "2f2fe675-e83f-4881-a362-79bb59c3f9a5",
   "metadata": {},
   "outputs": [
    {
     "data": {
      "text/plain": [
       "0.12448008163931523"
      ]
     },
     "execution_count": 76,
     "metadata": {},
     "output_type": "execute_result"
    }
   ],
   "source": [
    "tpr"
   ]
  },
  {
   "cell_type": "code",
   "execution_count": 82,
   "id": "83182436-f710-42f6-9e4c-5946e55cd292",
   "metadata": {},
   "outputs": [
    {
     "data": {
      "text/plain": [
       "0.10029238680027842"
      ]
     },
     "execution_count": 82,
     "metadata": {},
     "output_type": "execute_result"
    }
   ],
   "source": [
    "tpr"
   ]
  },
  {
   "cell_type": "code",
   "execution_count": null,
   "id": "21bf92b7-91ff-465f-81b7-cbc1048c1fe6",
   "metadata": {},
   "outputs": [],
   "source": []
  }
 ],
 "metadata": {
  "kernelspec": {
   "display_name": "GPU",
   "language": "python",
   "name": "gpu"
  },
  "language_info": {
   "codemirror_mode": {
    "name": "ipython",
    "version": 3
   },
   "file_extension": ".py",
   "mimetype": "text/x-python",
   "name": "python",
   "nbconvert_exporter": "python",
   "pygments_lexer": "ipython3",
   "version": "3.10.12"
  }
 },
 "nbformat": 4,
 "nbformat_minor": 5
}
