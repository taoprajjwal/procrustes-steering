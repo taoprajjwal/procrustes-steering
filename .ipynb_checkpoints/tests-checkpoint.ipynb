{
 "cells": [
  {
   "cell_type": "code",
   "execution_count": 1,
   "id": "07e570ff-46f8-4cc9-8561-53ecd6045588",
   "metadata": {},
   "outputs": [],
   "source": [
    "import numpy as np"
   ]
  },
  {
   "cell_type": "code",
   "execution_count": 13,
   "id": "9af95e7d-1b94-4bfe-8abd-8d53bdf0f796",
   "metadata": {},
   "outputs": [],
   "source": [
    "embds_file=np.memmap(\"llama_embds_test.obj\", dtype=np.float64, shape=(99069,4096),  mode=\"r\")"
   ]
  },
  {
   "cell_type": "code",
   "execution_count": 25,
   "id": "6fa55ad3-9f44-4ec5-87bf-ef07984389ed",
   "metadata": {},
   "outputs": [
    {
     "data": {
      "text/plain": [
       "memmap([0., 0., 0., ..., 0., 0., 0.])"
      ]
     },
     "execution_count": 25,
     "metadata": {},
     "output_type": "execute_result"
    }
   ],
   "source": [
    "embds_file[15200]"
   ]
  },
  {
   "cell_type": "code",
   "execution_count": 24,
   "id": "49c34a93-8aa2-4d46-a679-eea6226e5fc7",
   "metadata": {},
   "outputs": [
    {
     "data": {
      "text/plain": [
       "78.125"
      ]
     },
     "execution_count": 24,
     "metadata": {},
     "output_type": "execute_result"
    }
   ],
   "source": [
    "5000/64"
   ]
  },
  {
   "cell_type": "code",
   "execution_count": 11,
   "id": "8d23b29b-3376-475a-b958-135b9e397f73",
   "metadata": {},
   "outputs": [
    {
     "data": {
      "text/plain": [
       "257472"
      ]
     },
     "execution_count": 11,
     "metadata": {},
     "output_type": "execute_result"
    }
   ],
   "source": [
    "4023*64"
   ]
  },
  {
   "cell_type": "code",
   "execution_count": null,
   "id": "ba09987d-2320-48ec-bcf9-fd7995537f8f",
   "metadata": {},
   "outputs": [],
   "source": []
  }
 ],
 "metadata": {
  "kernelspec": {
   "display_name": "GPU",
   "language": "python",
   "name": "gpu"
  },
  "language_info": {
   "codemirror_mode": {
    "name": "ipython",
    "version": 3
   },
   "file_extension": ".py",
   "mimetype": "text/x-python",
   "name": "python",
   "nbconvert_exporter": "python",
   "pygments_lexer": "ipython3",
   "version": "3.10.12"
  }
 },
 "nbformat": 4,
 "nbformat_minor": 5
}
